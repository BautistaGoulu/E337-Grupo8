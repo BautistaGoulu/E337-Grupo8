{
 "cells": [
  {
   "cell_type": "code",
   "execution_count": 1,
   "id": "2f864560-f966-4e61-a34f-f71e029df6c1",
   "metadata": {
    "collapsed": true,
    "jupyter": {
     "outputs_hidden": true
    }
   },
   "outputs": [
    {
     "name": "stdout",
     "output_type": "stream",
     "text": [
      "                          CODUSU  ANO4 TRIMESTRE  NRO_HOGAR COMPONENTE H15  \\\n",
      "0  TQRMNOSYUHKNKMCDEIGED00856897  2024         1          1          1   1   \n",
      "1  TQRMNOSYUHKNKMCDEIGED00856897  2024         1          1          2   1   \n",
      "2  TQRMNORTVHLOKQCDEIMBF00855868  2024         1          1          1   1   \n",
      "3  TQRMNORTVHLOKQCDEIMBF00855868  2024         1          1          2   1   \n",
      "4  TQRMNORSXHMLLOCDEIMBF00802814  2024         1          1          1   1   \n",
      "\n",
      "  REGION MAS_500 AGLOMERADO  PONDERA  ... IDECCFR RDECCFR GDECCFR PDECCFR  \\\n",
      "0     43       N         30      159  ...       7       7     NaN     8.0   \n",
      "1     43       N         30      159  ...       7       7     NaN     8.0   \n",
      "2     43       N         36      138  ...       3       3     NaN     4.0   \n",
      "3     43       N         36      138  ...       3       3     NaN     4.0   \n",
      "4     43       N         36      149  ...      10      10     NaN    10.0   \n",
      "\n",
      "  ADECCFR PONDIH PJ1_1 PJ2_1 PJ3_1 IDIMPP  \n",
      "0       6  231.0   NaN   NaN   NaN    NaN  \n",
      "1       6  231.0   NaN   NaN   NaN    NaN  \n",
      "2       3  144.0   NaN   NaN   NaN    NaN  \n",
      "3       3  144.0   NaN   NaN   NaN    NaN  \n",
      "4      10  194.0   NaN   NaN   NaN    NaN  \n",
      "\n",
      "[5 rows x 181 columns]\n"
     ]
    }
   ],
   "source": [
    "import pandas as pd\n",
    "import os\n",
    "\n",
    "# Establecer el directorio de trabajo\n",
    "os.chdir(\"/Users/bautistagoulu/Desktop/Big Data\")\n",
    "\n",
    "# Cargar el archivo Excel\n",
    "df = pd.read_excel(\"Tabla_acortadaFINAL.xlsx\")\n",
    "\n",
    "# Verificamos que se cargó bien\n",
    "print(df.head())\n"
   ]
  },
  {
   "cell_type": "code",
   "execution_count": 5,
   "id": "82e5f520-bfe6-40df-b6bc-9e24683c6e8a",
   "metadata": {
    "collapsed": true,
    "jupyter": {
     "outputs_hidden": true
    }
   },
   "outputs": [
    {
     "name": "stdout",
     "output_type": "stream",
     "text": [
      "[ 5.  2.  4.  1.  3. nan]\n",
      "      CH07\n",
      "4873     2\n",
      "4874     2\n",
      "4875     2\n",
      "4876     2\n",
      "4877     1\n",
      "4878     1\n",
      "4879     2\n",
      "4880     2\n",
      "4881     2\n",
      "4882     2\n"
     ]
    }
   ],
   "source": [
    "# Ver qué valores únicos hay en CH07\n",
    "print(df[\"CH07\"].unique())\n",
    "\n",
    "# Limpiamos el texto: pasamos a string, sacamos espacios, pasamos a minúsculas\n",
    "df[\"CH07\"] = df[\"CH07\"].astype(str).str.strip().str.lower()\n",
    "\n",
    "# Reemplazamos los textos por números\n",
    "df[\"CH07\"] = df[\"CH07\"].replace({\n",
    "    'casado': 1,\n",
    "    'soltero': 2,\n",
    "    'separado': 3,\n",
    "    'viudo': 4,\n",
    "    'unido': 5\n",
    "})\n",
    "\n",
    "# Convertimos a número entero (con soporte para NaN si hubiera valores vacíos)\n",
    "df[\"CH07\"] = pd.to_numeric(df[\"CH07\"], errors=\"coerce\").astype(\"Int64\")\n",
    "\n",
    "# Verificamos\n",
    "print(df[[\"CH07\"]].tail(10))\n"
   ]
  },
  {
   "cell_type": "code",
   "execution_count": 9,
   "id": "c00c9f5f-6eaf-4be3-8a0e-1062d9e01bf8",
   "metadata": {},
   "outputs": [
    {
     "name": "stdout",
     "output_type": "stream",
     "text": [
      "      NIVEL_ED\n",
      "4878         1\n",
      "4879         3\n",
      "4880         1\n",
      "4881         1\n",
      "4882         5\n"
     ]
    }
   ],
   "source": [
    "# Seguimos con la columna de NIVEL_ED\n",
    "\n",
    "#Asegurarnos de que la columna NIVEL_ED sea de tipo string antes de hacer el reemplazo\n",
    "df['NIVEL_ED'] = df['NIVEL_ED'].astype(str)\n",
    "\n",
    "# Reemplazar los valores de NIVEL_ED de 2004 (texto) a valores numéricos\n",
    "df['NIVEL_ED'] = df['NIVEL_ED'].replace({\n",
    "    'Primaria Incompleta (incluye educación especial)': 1,\n",
    "    'Primaria completa': 2,\n",
    "    'Secundaria Incompleta': 3,\n",
    "    'Secundaria Completa': 4,\n",
    "    'Superior Universitaria Incompleta': 5,\n",
    "    'Superior Universitaria Completa': 6,\n",
    "    'Sin instrucción': 7,\n",
    "    'Ns/Nr': 9\n",
    "})\n",
    "\n",
    "# Convertir los valores a numérico, forzando los errores a NaN\n",
    "df['NIVEL_ED'] = pd.to_numeric(df['NIVEL_ED'], errors='coerce')\n",
    "\n",
    "# Llenar los NaN (si los hay) con un valor adecuado (por ejemplo, 1 o el valor adecuado)\n",
    "df['NIVEL_ED'] = df['NIVEL_ED'].fillna(1).astype(int)\n",
    "\n",
    "# Verificamos la homogenización\n",
    "print(df[['NIVEL_ED']].tail())"
   ]
  },
  {
   "cell_type": "code",
   "execution_count": 13,
   "id": "63088f99-42cc-4052-b5f2-11b38eb7bd5f",
   "metadata": {
    "collapsed": true,
    "jupyter": {
     "outputs_hidden": true
    },
    "scrolled": true
   },
   "outputs": [
    {
     "name": "stdout",
     "output_type": "stream",
     "text": [
      "      CH04\n",
      "4871     2\n",
      "4872     1\n",
      "4873     2\n",
      "4874     1\n",
      "4875     1\n",
      "4876     1\n",
      "4877     1\n",
      "4878     2\n",
      "4879     2\n",
      "4880     2\n",
      "4881     2\n",
      "4882     2\n"
     ]
    }
   ],
   "source": [
    "#ITEM D\n",
    "# Arranquemos con la variable CH04 (sexo)\n",
    "\n",
    "import numpy as np\n",
    "\n",
    "# Asegurarnos de que la columna CH04 sea de tipo string antes de hacer el reemplazo\n",
    "df['CH04'] = df['CH04'].astype(str)\n",
    "\n",
    "# Reemplazar los valores de CH04 de 2004 (texto) a valores numéricos\n",
    "df['CH04'] = df['CH04'].replace({\n",
    "    'Varón': 1,\n",
    "    'Mujer': 2\n",
    "})\n",
    "\n",
    "# Convertir los valores a numéricos (eliminando cualquier valor no numérico)\n",
    "df['CH04'] = pd.to_numeric(df['CH04'], errors='coerce')  # Coerce convierte valores no numéricos a NaN\n",
    "\n",
    "# Convertir los valores de CH04 a enteros (y manejar los NaN)\n",
    "df['CH04'] = df['CH04'].fillna(1).astype(int)  # Llenamos NaN con 1 (o el valor adecuado) y luego convertimos a int\n",
    "\n",
    "# Verificamos la homogenización\n",
    "print(df[['CH04']].tail(12))"
   ]
  },
  {
   "cell_type": "code",
   "execution_count": 15,
   "id": "7032c824-e91e-4c6f-817d-e4baf14e540c",
   "metadata": {
    "collapsed": true,
    "jupyter": {
     "outputs_hidden": true
    },
    "scrolled": true
   },
   "outputs": [
    {
     "name": "stdout",
     "output_type": "stream",
     "text": [
      "      CH06\n",
      "4878    37\n",
      "4879    16\n",
      "4880    13\n",
      "4881     6\n",
      "4882    19\n"
     ]
    }
   ],
   "source": [
    "#En la columna CH006 cuando la edad esta entre 0 y 1, en 2024 aparece -1, y en 2004 dice \"Menos de 1 año\", homogenizemos para que diga -1\n",
    "# Asegurarnos de que la columna CH06 sea de tipo string antes de hacer el reemplazo\n",
    "df['CH06'] = df['CH06'].astype(str)\n",
    "\n",
    "# Reemplazar \"Menos de 1 año\" por -1 en 2004\n",
    "df['CH06'] = df['CH06'].replace({\n",
    "    'Menos de 1 año': -1\n",
    "})\n",
    "\n",
    "# Convertir los valores a numérico, forzando los errores a NaN\n",
    "df['CH06'] = pd.to_numeric(df['CH06'], errors='coerce')\n",
    "\n",
    "# Llenar los NaN (si los hay) con un valor adecuado (por ejemplo, 0 o el valor adecuado)\n",
    "df['CH06'] = df['CH06'].fillna(-1).astype(int)\n",
    "\n",
    "# Verificamos la homogenización\n",
    "print(df[['CH06']].tail())"
   ]
  },
  {
   "cell_type": "code",
   "execution_count": 17,
   "id": "0a8a5069-5a66-4af0-be32-eb4f6a42dda2",
   "metadata": {},
   "outputs": [
    {
     "name": "stdout",
     "output_type": "stream",
     "text": [
      "      CH08\n",
      "4878     4\n",
      "4879     3\n",
      "4880     3\n",
      "4881     3\n",
      "4882     3\n"
     ]
    }
   ],
   "source": [
    "#Lo mismo para variable CH08 (Cobertura medica)\n",
    "# Asegurarnos de que la columna CH08 sea de tipo string antes de hacer el reemplazo\n",
    "df['CH08'] = df['CH08'].astype(str)\n",
    "\n",
    "# Reemplazar los valores de CH08 de 2004 (texto) a valores numéricos\n",
    "df['CH08'] = df['CH08'].replace({\n",
    "    'Obra social (incluye PAMI)': 1,\n",
    "    'Mutual / prepaga / servicio de emergencia': 2,\n",
    "    'Planes y seguros públicos': 3,\n",
    "    'No paga ni le descuentan': 4,\n",
    "    'Ns/Nr': 9,\n",
    "    'Obra social y mutual / prepaga / servicio de emergencia': 12,\n",
    "    'Obra social y planes y seguros públicos': 13,\n",
    "    'Mutual / prepaga / servicio de emergencia / Planes y seguros públicos': 23,\n",
    "    'Obra social, mutual / prepaga / servicio de emergencia y planes y seguros públicos': 123\n",
    "})\n",
    "\n",
    "# Convertir los valores a numérico, forzando los errores a NaN\n",
    "df['CH08'] = pd.to_numeric(df['CH08'], errors='coerce')\n",
    "\n",
    "# Llenar los NaN (si los hay) con un valor adecuado (por ejemplo, 1)\n",
    "df['CH08'] = df['CH08'].fillna(1).astype(int)\n",
    "\n",
    "# Verificamos la homogenización\n",
    "print(df[['CH08']].tail())"
   ]
  },
  {
   "cell_type": "code",
   "execution_count": 19,
   "id": "192dbb60-b0f8-49bb-b43a-ba2d0f9b60c1",
   "metadata": {},
   "outputs": [
    {
     "name": "stdout",
     "output_type": "stream",
     "text": [
      "      ESTADO\n",
      "4878       3\n",
      "4879       3\n",
      "4880       3\n",
      "4881       4\n",
      "4882       3\n"
     ]
    }
   ],
   "source": [
    "#Seguimos con la variable ESTADO\n",
    "\n",
    "# Asegurarnos de que la columna ESTADO sea de tipo string antes de hacer el reemplazo\n",
    "df['ESTADO'] = df['ESTADO'].astype(str)\n",
    "\n",
    "# Reemplazar los valores de ESTADO de 2004 (texto) a valores numéricos\n",
    "df['ESTADO'] = df['ESTADO'].replace({\n",
    "    'Entrevista individual no realizada (no respuesta al cuestionario individual)': 0,\n",
    "    'Ocupado': 1,\n",
    "    'Desocupado': 2,\n",
    "    'Inactivo': 3,\n",
    "    'Menor de 10 años': 4\n",
    "})\n",
    "\n",
    "# Convertir los valores a numérico, forzando los errores a NaN\n",
    "df['ESTADO'] = pd.to_numeric(df['ESTADO'], errors='coerce')\n",
    "\n",
    "# Llenar los NaN (si los hay) con un valor adecuado (por ejemplo, 0)\n",
    "df['ESTADO'] = df['ESTADO'].fillna(0).astype(int)\n",
    "\n",
    "# Verificamos la homogenización\n",
    "print(df[['ESTADO']].tail())"
   ]
  },
  {
   "cell_type": "code",
   "execution_count": 23,
   "id": "62c9f99a-a4c3-4f20-9078-78d716e255f6",
   "metadata": {
    "collapsed": true,
    "jupyter": {
     "outputs_hidden": true
    }
   },
   "outputs": [
    {
     "name": "stdout",
     "output_type": "stream",
     "text": [
      "      CAT_INAC\n",
      "4868         1\n",
      "4869         1\n",
      "4870         0\n",
      "4871         0\n",
      "4872         1\n",
      "4873         1\n",
      "4874         1\n",
      "4875         0\n",
      "4876         0\n",
      "4877         0\n",
      "4878         1\n",
      "4879         1\n",
      "4880         1\n",
      "4881         1\n",
      "4882         1\n"
     ]
    }
   ],
   "source": [
    "#Seguimos con la variable CAT_INAC \n",
    "\n",
    "# Asegurarnos de que la columna CAT_INAC sea de tipo string antes de hacer el reemplazo\n",
    "df['CAT_INAC'] = df['CAT_INAC'].astype(str)\n",
    "\n",
    "# Reemplazar los valores de CAT_INAC de 2004 (texto) a valores numéricos\n",
    "df['CAT_INAC'] = df['CAT_INAC'].replace({\n",
    "    'Patrón': 1,\n",
    "    'Cuenta propia': 2,\n",
    "    'Obrero o empleado': 3,\n",
    "    'Trabajador familiar sin remuneración': 4,\n",
    "    'Ns/Nr': 9\n",
    "})\n",
    "\n",
    "# Convertir los valores a numérico, forzando los errores a NaN\n",
    "df['CAT_INAC'] = pd.to_numeric(df['CAT_INAC'], errors='coerce')\n",
    "\n",
    "# Llenar los NaN (si los hay) con un valor adecuado (por ejemplo, 1 o el valor adecuado)\n",
    "df['CAT_INAC'] = df['CAT_INAC'].fillna(1).astype(int)\n",
    "\n",
    "# Verificamos la homogenización\n",
    "print(df[['CAT_INAC']].tail(15))"
   ]
  },
  {
   "cell_type": "code",
   "execution_count": 27,
   "id": "327a18c2-9c26-4720-96a6-729d86b1a56f",
   "metadata": {},
   "outputs": [
    {
     "name": "stdout",
     "output_type": "stream",
     "text": [
      "      CAT_OCUP\n",
      "4871         3\n",
      "4872         9\n",
      "4873         9\n",
      "4874         9\n",
      "4875         3\n",
      "4876         3\n",
      "4877         3\n",
      "4878         9\n",
      "4879         9\n",
      "4880         9\n",
      "4881         9\n",
      "4882         9\n"
     ]
    }
   ],
   "source": [
    "#Seguimos con CAT_OCUP (OCUPACION)\n",
    "\n",
    "# Asegurarnos de que la columna CAT_OCUP sea de tipo string antes de hacer el reemplazo\n",
    "df['CAT_OCUP'] = df['CAT_OCUP'].astype(str)\n",
    "\n",
    "# Reemplazar los valores de CAT_OCUP de 2004 (texto) a valores numéricos\n",
    "df['CAT_OCUP'] = df['CAT_OCUP'].replace({\n",
    "    'Patrón': 1,\n",
    "    'Cuenta propia': 2,\n",
    "    'Obrero o empleado': 3,\n",
    "    'Trabajador familiar sin remuneración': 4,\n",
    "    'Ns/Nr': 9  # Reemplazar Ns/Nr por 9\n",
    "})\n",
    "\n",
    "# Reemplazar los valores 0 por 9 (ya que 0 representa Ns/Nr)\n",
    "df['CAT_OCUP'] = df['CAT_OCUP'].replace({'0': 9})\n",
    "\n",
    "# Convertir los valores a numérico, forzando los errores a NaN\n",
    "df['CAT_OCUP'] = pd.to_numeric(df['CAT_OCUP'], errors='coerce')\n",
    "\n",
    "# Llenar los NaN (si los hay) con un valor adecuado (por ejemplo, 1 o el valor adecuado)\n",
    "df['CAT_OCUP'] = df['CAT_OCUP'].fillna(1).astype(int)\n",
    "\n",
    "# Verificamos la homogenización\n",
    "print(df[['CAT_OCUP']].tail(12))"
   ]
  },
  {
   "cell_type": "code",
   "execution_count": 31,
   "id": "4b5f64ed-d466-4e72-87ae-1dd8354502f7",
   "metadata": {
    "collapsed": true,
    "jupyter": {
     "outputs_hidden": true
    }
   },
   "outputs": [
    {
     "name": "stdout",
     "output_type": "stream",
     "text": [
      "      PP02C1  PP02C2  PP02C3  PP02C4  PP02C5  PP02C6\n",
      "4871       2       2       2       2       2       2\n",
      "4872       0       0       0       0       0       0\n",
      "4873       0       0       0       0       0       0\n",
      "4874       0       0       0       0       0       0\n",
      "4875       2       2       2       2       2       2\n",
      "4876       0       0       0       0       0       0\n",
      "4877       0       0       0       0       0       0\n",
      "4878       0       0       0       0       0       0\n",
      "4879       0       0       0       0       0       0\n",
      "4880       0       0       0       0       0       0\n",
      "4881       0       0       0       0       0       0\n",
      "4882       0       0       0       0       0       0\n"
     ]
    }
   ],
   "source": [
    "#Vamos a limpiar las columnas PP02C1 hasta PP02C6 y hacer que los valores \"SI\" se reemplacen por 1 y \"NO\" se reemplacen por 2:\n",
    "\n",
    "# Lista de columnas de PP02C1 hasta PP02C6\n",
    "cols_to_clean = ['PP02C1', 'PP02C2', 'PP02C3', 'PP02C4', 'PP02C5', 'PP02C6']\n",
    "\n",
    "# Iterar sobre cada columna y reemplazar \"SI\" por 1 y \"NO\" por 2\n",
    "for col in cols_to_clean:\n",
    "    df[col] = df[col].replace({'SI': 1, 'NO': 2})\n",
    "    df[col] = pd.to_numeric(df[col], errors='coerce')  # Convertir a numérico y forzar errores a NaN\n",
    "    df[col] = df[col].fillna(2).astype(int)  # Llenar NaN con 2 (o el valor adecuado) y convertir a entero\n",
    "\n",
    "# Verificamos la limpieza\n",
    "print(df[cols_to_clean].tail(12))"
   ]
  },
  {
   "cell_type": "code",
   "execution_count": 35,
   "id": "5d23317d-a6cc-4be8-b439-38e9642166b2",
   "metadata": {},
   "outputs": [],
   "source": [
    "#La variable CH14 presenta algunos problemas. Vamos a limpiarla:\n",
    "\n",
    "#Los valores 0 a 9 se convertirán en 01 a 09 respectivamente (ya que los datos de 2024 no tienen el 0 antes del numero)\n",
    "df['CH14'] = pd.to_numeric(df['CH14'], errors='coerce')\n",
    "df['CH14'] = df['CH14'].apply(lambda x: f'{int(x):02d}' if pd.notnull(x) and 0 <= x < 10 else x)\n",
    "\n",
    "#Los valores faltantes o NaN serán reemplazados por 99 (equivalente a Ns/Nr). Ya que la tabla 2004 no tiene la opcion de Ns/Nr, y hay datos faltantes.\n",
    "df['CH14'] = df['CH14'].fillna(99)"
   ]
  },
  {
   "cell_type": "code",
   "execution_count": 47,
   "id": "1213f976-6543-476f-adf9-fb06d60d87bf",
   "metadata": {},
   "outputs": [
    {
     "name": "stdout",
     "output_type": "stream",
     "text": [
      "                          CODUSU  ANO4 TRIMESTRE  NRO_HOGAR COMPONENTE H15  \\\n",
      "0  TQRMNOSYUHKNKMCDEIGED00856897  2024         1          1          1   1   \n",
      "1  TQRMNOSYUHKNKMCDEIGED00856897  2024         1          1          2   1   \n",
      "2  TQRMNORTVHLOKQCDEIMBF00855868  2024         1          1          1   1   \n",
      "3  TQRMNORTVHLOKQCDEIMBF00855868  2024         1          1          2   1   \n",
      "4  TQRMNORSXHMLLOCDEIMBF00802814  2024         1          1          1   1   \n",
      "\n",
      "  REGION MAS_500 AGLOMERADO  PONDERA  ... dummy_segundo  dummy_tercero  \\\n",
      "0     43       N         30      159  ...             1              0   \n",
      "1     43       N         30      159  ...             0              0   \n",
      "2     43       N         36      138  ...             0              0   \n",
      "3     43       N         36      138  ...             0              1   \n",
      "4     43       N         36      149  ...             0              0   \n",
      "\n",
      "  dummy_cuarto  dummy_quinto  dummy_sexto  dummy_septimo dummy_octavo  \\\n",
      "0            0             0            0              0            0   \n",
      "1            0             0            0              0            0   \n",
      "2            0             0            0              0            0   \n",
      "3            0             0            0              0            0   \n",
      "4            0             0            0              0            0   \n",
      "\n",
      "  dummy_noveno dummy_educacion_especial dummy_ns_nr_ch14  \n",
      "0            0                        0                0  \n",
      "1            0                        0                0  \n",
      "2            0                        0                0  \n",
      "3            0                        0                0  \n",
      "4            0                        0                0  \n",
      "\n",
      "[5 rows x 229 columns]\n"
     ]
    }
   ],
   "source": [
    "import numpy as np\n",
    "import pandas as pd\n",
    "\n",
    "# Aseguramos que las columnas estén en formato numérico compatible con np.where\n",
    "df[\"CH07\"] = pd.to_numeric(df[\"CH07\"], errors=\"coerce\")\n",
    "df[\"CH08\"] = pd.to_numeric(df[\"CH08\"], errors=\"coerce\")\n",
    "df[\"NIVEL_ED\"] = pd.to_numeric(df[\"NIVEL_ED\"], errors=\"coerce\")\n",
    "df[\"ESTADO\"] = pd.to_numeric(df[\"ESTADO\"], errors=\"coerce\")\n",
    "df[\"CAT_INAC\"] = pd.to_numeric(df[\"CAT_INAC\"], errors=\"coerce\")\n",
    "df[\"CAT_OCUP\"] = pd.to_numeric(df[\"CAT_OCUP\"], errors=\"coerce\")\n",
    "# CH14 queda como string (por ejemplo: '01', '02', etc.)\n",
    "\n",
    "# Lista de columnas dummy\n",
    "dummy_column_names = []\n",
    "\n",
    "# CH07 (Estado civil)\n",
    "dummy_column_names += [\n",
    "    ('dummy_casado', np.where(df['CH07'].fillna(-999) == 1, 1, 0)),\n",
    "    ('dummy_soltero', np.where(df['CH07'].fillna(-999) == 2, 1, 0)),\n",
    "    ('dummy_separado', np.where(df['CH07'].fillna(-999) == 3, 1, 0)),\n",
    "    ('dummy_viudo', np.where(df['CH07'].fillna(-999) == 4, 1, 0)),\n",
    "    ('dummy_unido', np.where(df['CH07'].fillna(-999) == 5, 1, 0)),\n",
    "]\n",
    "\n",
    "\n",
    "\n",
    "# CH08 (Cobertura médica)\n",
    "dummy_column_names += [\n",
    "    ('dummy_obra_social', np.where(df['CH08'] == 1, 1, 0)),\n",
    "    ('dummy_mutual', np.where(df['CH08'] == 2, 1, 0)),\n",
    "    ('dummy_planes_publicos', np.where(df['CH08'] == 3, 1, 0)),\n",
    "    ('dummy_no_paga', np.where(df['CH08'] == 4, 1, 0)),\n",
    "    ('dummy_ns_nr_ch08', np.where(df['CH08'] == 9, 1, 0)),\n",
    "    ('dummy_obra_social_mutual', np.where(df['CH08'] == 12, 1, 0)),\n",
    "    ('dummy_obra_social_planes', np.where(df['CH08'] == 13, 1, 0)),\n",
    "    ('dummy_mutual_planes', np.where(df['CH08'] == 23, 1, 0)),\n",
    "    ('dummy_obra_social_mutual_planes', np.where(df['CH08'] == 123, 1, 0)),\n",
    "]\n",
    "\n",
    "# NIVEL_ED (Nivel educativo)\n",
    "dummy_column_names += [\n",
    "    ('dummy_primario_incompleto', np.where(df['NIVEL_ED'] == 1, 1, 0)),\n",
    "    ('dummy_primario_completo', np.where(df['NIVEL_ED'] == 2, 1, 0)),\n",
    "    ('dummy_secundario_incompleto', np.where(df['NIVEL_ED'] == 3, 1, 0)),\n",
    "    ('dummy_secundario_completo', np.where(df['NIVEL_ED'] == 4, 1, 0)),\n",
    "    ('dummy_superior_incompleto', np.where(df['NIVEL_ED'] == 5, 1, 0)),\n",
    "    ('dummy_superior_completo', np.where(df['NIVEL_ED'] == 6, 1, 0)),\n",
    "    ('dummy_sin_instruccion', np.where(df['NIVEL_ED'] == 7, 1, 0)),\n",
    "    ('dummy_ns_nr_nivel', np.where(df['NIVEL_ED'] == 9, 1, 0)),\n",
    "]\n",
    "\n",
    "# ESTADO (Condición de actividad)\n",
    "dummy_column_names += [\n",
    "    ('dummy_ocupado', np.where(df['ESTADO'] == 1, 1, 0)),\n",
    "    ('dummy_desocupado', np.where(df['ESTADO'] == 2, 1, 0)),\n",
    "    ('dummy_inactivo', np.where(df['ESTADO'] == 3, 1, 0)),\n",
    "    ('dummy_menor_10', np.where(df['ESTADO'] == 4, 1, 0)),\n",
    "]\n",
    "\n",
    "# CAT_INAC (Condición de inactividad)\n",
    "dummy_column_names += [\n",
    "    ('dummy_patron', np.where(df['CAT_INAC'] == 1, 1, 0)),\n",
    "    ('dummy_cuenta_propia', np.where(df['CAT_INAC'] == 2, 1, 0)),\n",
    "    ('dummy_obrero', np.where(df['CAT_INAC'] == 3, 1, 0)),\n",
    "    ('dummy_trabajador_familiar', np.where(df['CAT_INAC'] == 4, 1, 0)),\n",
    "    ('dummy_ns_nr_inac', np.where(df['CAT_INAC'] == 9, 1, 0)),\n",
    "]\n",
    "\n",
    "# CAT_OCUP (Categoría ocupacional)\n",
    "dummy_column_names += [\n",
    "    ('dummy_patron_ocup', np.where(df['CAT_OCUP'] == 1, 1, 0)),\n",
    "    ('dummy_cuenta_propia_ocup', np.where(df['CAT_OCUP'] == 2, 1, 0)),\n",
    "    ('dummy_obrero_ocup', np.where(df['CAT_OCUP'] == 3, 1, 0)),\n",
    "    ('dummy_trabajador_familiar_ocup', np.where(df['CAT_OCUP'] == 4, 1, 0)),\n",
    "    ('dummy_ns_nr_ocup', np.where(df['CAT_OCUP'] == 9, 1, 0)),\n",
    "]\n",
    "\n",
    "# CH14 (año de cursado más alto aprobado, en texto tipo '01', '02', etc.)\n",
    "dummy_column_names += [\n",
    "    ('dummy_ninguno', np.where(df['CH14'] == '00', 1, 0)),\n",
    "    ('dummy_primero', np.where(df['CH14'] == '01', 1, 0)),\n",
    "    ('dummy_segundo', np.where(df['CH14'] == '02', 1, 0)),\n",
    "    ('dummy_tercero', np.where(df['CH14'] == '03', 1, 0)),\n",
    "    ('dummy_cuarto', np.where(df['CH14'] == '04', 1, 0)),\n",
    "    ('dummy_quinto', np.where(df['CH14'] == '05', 1, 0)),\n",
    "    ('dummy_sexto', np.where(df['CH14'] == '06', 1, 0)),\n",
    "    ('dummy_septimo', np.where(df['CH14'] == '07', 1, 0)),\n",
    "    ('dummy_octavo', np.where(df['CH14'] == '08', 1, 0)),\n",
    "    ('dummy_noveno', np.where(df['CH14'] == '09', 1, 0)),\n",
    "    ('dummy_educacion_especial', np.where(df['CH14'] == '98', 1, 0)),\n",
    "    ('dummy_ns_nr_ch14', np.where(df['CH14'] == '99', 1, 0)),\n",
    "]\n",
    "\n",
    "# Agregamos todas las nuevas columnas al DataFrame\n",
    "for col_name, dummy_data in dummy_column_names:\n",
    "    df[col_name] = dummy_data\n",
    "\n",
    "# Guardar el DataFrame actualizado\n",
    "df.to_excel(\"df_dummies_final2.xlsx\", index=False)\n",
    "\n",
    "# Verificamos\n",
    "print(df.head())\n"
   ]
  },
  {
   "cell_type": "code",
   "execution_count": 51,
   "id": "af2f33c7-345a-4c2f-b1ec-6efaf2d20fe5",
   "metadata": {},
   "outputs": [
    {
     "name": "stdout",
     "output_type": "stream",
     "text": [
      "Cantidad de personas que no respondieron: 2\n",
      "Cantidad que respondieron: 4881\n"
     ]
    }
   ],
   "source": [
    "#Ejercicio 6\n",
    "# Ver cuántas personas no respondieron (suponemos que ESTADO=0 significa no respuesta)\n",
    "norespondieron = df[df['ESTADO'] == 0]\n",
    "print(\"Cantidad de personas que no respondieron:\", len(norespondieron))\n",
    "\n",
    "# Guardar quienes sí respondieron\n",
    "respondieron = df[df['ESTADO'] != 0]\n",
    "\n",
    "# (opcional) Verificás tamaños\n",
    "print(\"Cantidad que respondieron:\", len(respondieron))"
   ]
  },
  {
   "cell_type": "code",
   "execution_count": 55,
   "id": "b3ff4610-02ce-4ad0-8d62-14ea21adde1a",
   "metadata": {},
   "outputs": [
    {
     "name": "stdout",
     "output_type": "stream",
     "text": [
      "Datos en la base respondieron:\n",
      "                           CODUSU  ANO4 TRIMESTRE  NRO_HOGAR COMPONENTE H15  \\\n",
      "0  TQRMNOSYUHKNKMCDEIGED00856897  2024         1          1          1   1   \n",
      "1  TQRMNOSYUHKNKMCDEIGED00856897  2024         1          1          2   1   \n",
      "2  TQRMNORTVHLOKQCDEIMBF00855868  2024         1          1          1   1   \n",
      "3  TQRMNORTVHLOKQCDEIMBF00855868  2024         1          1          2   1   \n",
      "4  TQRMNORSXHMLLOCDEIMBF00802814  2024         1          1          1   1   \n",
      "\n",
      "  REGION MAS_500 AGLOMERADO  PONDERA  ... dummy_tercero  dummy_cuarto  \\\n",
      "0     43       N         30      159  ...             0             0   \n",
      "1     43       N         30      159  ...             0             0   \n",
      "2     43       N         36      138  ...             0             0   \n",
      "3     43       N         36      138  ...             1             0   \n",
      "4     43       N         36      149  ...             0             0   \n",
      "\n",
      "  dummy_quinto  dummy_sexto  dummy_septimo  dummy_octavo dummy_noveno  \\\n",
      "0            0            0              0             0            0   \n",
      "1            0            0              0             0            0   \n",
      "2            0            0              0             0            0   \n",
      "3            0            0              0             0            0   \n",
      "4            0            0              0             0            0   \n",
      "\n",
      "  dummy_educacion_especial dummy_ns_nr_ch14 PEA  \n",
      "0                        0                0   1  \n",
      "1                        0                0   1  \n",
      "2                        0                0   0  \n",
      "3                        0                0   1  \n",
      "4                        0                0   0  \n",
      "\n",
      "[5 rows x 230 columns]\n"
     ]
    }
   ],
   "source": [
    "#Ejercicio 7\n",
    "\n",
    "# Agregar la columna \"PEA\"\n",
    "# Consideramos PEA (Población Económicamente Activa) a aquellos con ESTADO 1 (ocupados) o 2 (desocupados)\n",
    "respondieron.loc[:, 'PEA'] = respondieron['ESTADO'].apply(lambda x: 1 if x in [1, 2] else 0)\n",
    "\n",
    "# Guardar la base respondieron con la nueva columna \"PEA\"\n",
    "respondieron.to_excel('respondieron2.xlsx', index=False)\n",
    "\n",
    "# Verificar los datos en la base respondieron\n",
    "print(\"Datos en la base respondieron:\\n\", respondieron.head())\n"
   ]
  }
 ],
 "metadata": {
  "kernelspec": {
   "display_name": "Python [conda env:base]",
   "language": "python",
   "name": "conda-base-py"
  },
  "language_info": {
   "codemirror_mode": {
    "name": "ipython",
    "version": 3
   },
   "file_extension": ".py",
   "mimetype": "text/x-python",
   "name": "python",
   "nbconvert_exporter": "python",
   "pygments_lexer": "ipython3",
   "version": "3.12.7"
  }
 },
 "nbformat": 4,
 "nbformat_minor": 5
}
